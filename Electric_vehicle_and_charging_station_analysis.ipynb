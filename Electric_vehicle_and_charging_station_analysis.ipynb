{
  "nbformat": 4,
  "nbformat_minor": 0,
  "metadata": {
    "colab": {
      "provenance": []
    },
    "kernelspec": {
      "name": "python3",
      "display_name": "Python 3"
    },
    "language_info": {
      "name": "python"
    }
  },
  "cells": [
    {
      "cell_type": "markdown",
      "source": [
        "# 친환경자동차 등록 대수 현황 및 친환경자동차 충전소 시각화"
      ],
      "metadata": {
        "id": "ckYwaa51S7pK"
      }
    },
    {
      "cell_type": "code",
      "source": [
        "import pandas as pd\n",
        "import folium\n",
        "import numpy as np\n",
        "import matplotlib.pyplot as plt"
      ],
      "metadata": {
        "id": "n1O8gu0Kv6xe"
      },
      "execution_count": 4,
      "outputs": []
    },
    {
      "cell_type": "markdown",
      "source": [
        "### 2021 지역별 전기차 현황 데이터"
      ],
      "metadata": {
        "id": "6Y73rgzYL1FO"
      }
    },
    {
      "cell_type": "code",
      "source": [
        "# 전기차 현황 정보 불러오기 (2019-01-01 ~ 2022-03-01)\n",
        "df = pd.read_csv('/content/한국전력공사_지역별 전기차 현황정보_20220429.csv', encoding='cp949')\n",
        "\n",
        "# 컬럼명 변경\n",
        "df.rename(columns = {'서울': '서울특별시', '인천': '인천광역시',\n",
        "                     '경기': '경기도', '강원': '강원도',\n",
        "                     '충북':'충청북도', '충남': '충청남도',\n",
        "                     '대전': '대전광역시', '세종': '세종특별자치시',\n",
        "                     '경북': '경상북도', '대구': '대구광역시',\n",
        "                     '전북': '전라북도', '전남': '전라남도',\n",
        "                     '광주': '광주광역시','경남': '경상남도',\n",
        "                     '부산': '부산광역시', '울산': '울산광역시',\n",
        "                     '제주':'제주특별자치도','합계':'합계'}, inplace = True)"
      ],
      "metadata": {
        "id": "stSQlXR6N3YB"
      },
      "execution_count": 5,
      "outputs": []
    },
    {
      "cell_type": "code",
      "source": [
        "# 전기차 현황 정보 (2019-01-01 ~ 2022-03-01)\n",
        "electric_vehicle_df = df[:]\n",
        "\n",
        "# 합계 컬럼 삭제\n",
        "electric_vehicle_df = df.drop(['합계'], axis = 1)\n",
        "\n",
        "# 기준일이 2021-01-01 ~ 2021-12-01의 데이터만 수집\n",
        "electric_vehicle_2021_df = electric_vehicle_df[electric_vehicle_df['기준일'].between('2021-01-01','2021-12-01')]\n",
        "\n",
        "# 행과 열을 변경 컬럼명은 이전의 index로 사용\n",
        "electric_vehicle_2021_df = electric_vehicle_2021_df.transpose().rename(columns = electric_vehicle_2021_df.iloc[0])\n",
        "# index의 기준일 삭제\n",
        "electric_vehicle_2021_df = electric_vehicle_2021_df.drop(electric_vehicle_2021_df.index[0])\n",
        "# 합계를 생성 후 시도별 합계를 구하여 데이터 가공\n",
        "electric_vehicle_2021_df['합계'] = electric_vehicle_2021_df.sum(axis = 1).astype('int64')\n",
        "\n",
        "# index 초기화\n",
        "electric_vehicle_2021_df.reset_index(inplace=True)\n",
        "# index를 시도로 변경\n",
        "electric_vehicle_2021_df.rename(columns = {'index': '시도'}, inplace=True)\n",
        "\n",
        "g_geo = '/content/전국행정구역경계.json'\n",
        "# 지도의 위경도, 백그라운드, 카메라 zoom 설정\n",
        "electric_vehicle_status_map = folium.Map(location = [35.907757, 127.766922], tiles='Stamen Terrain', zoom_start = 6)\n",
        "\n",
        "folium.Choropleth(geo_data = g_geo,\n",
        "            data = electric_vehicle_2021_df,\n",
        "            columns = ('시도', '합계'),\n",
        "            #json의 명시된 properties의 CTP_KOR_NM을 시도와 비교한다.\n",
        "            key_on = 'properties.CTP_KOR_NM', \n",
        "            fill_color='YlOrRd',\n",
        "            ).add_to(electric_vehicle_status_map)\n",
        "\n",
        "electric_vehicle_status_map.save('./electric_vehicle_status_map.html')\n",
        "# https://chanwon-seo.github.io/Electric_vehicle_and_charging_station_analysis/charging_station_map.html\n",
        "electric_vehicle_status_map"
      ],
      "metadata": {
        "id": "Y1X8ZLGMMtBV"
      },
      "execution_count": null,
      "outputs": []
    },
    {
      "cell_type": "code",
      "source": [
        "# 합계를 기준으로 정렬\n",
        "electric_vehicle_2021_df = electric_vehicle_2021_df.sort_values(by = '합계', ascending=False)\n",
        "\n",
        "#합계가 가장 높은 데이터만 추출\n",
        "top_df3 = electric_vehicle_2021_df.iloc[:3] \n",
        "\n",
        "# 시도 열을 index\n",
        "top_df3.set_index('시도', inplace=True)\n",
        "\n",
        "# 합계 열 drop\n",
        "top_df3.drop('합계', axis=1, inplace=True)\n",
        "\n",
        "# 행과 열 뒤집기\n",
        "top_df3 = top_df3.transpose()\n",
        "top_df3.sort_index(inplace=True, ascending=False)\n",
        "top_df3.reset_index(inplace=True, drop=True)\n",
        "\n",
        "plt.plot(top_df3)\n",
        "plt.legend((\"Gyeonggi-do\",\"Seoul\", \"Jeju\"))\n",
        "plt.show()"
      ],
      "metadata": {
        "colab": {
          "base_uri": "https://localhost:8080/",
          "height": 357
        },
        "id": "L-W1woXAHnXC",
        "outputId": "77fb4b8a-fa59-43dd-a0c5-96e9a6b491ec"
      },
      "execution_count": 7,
      "outputs": [
        {
          "output_type": "stream",
          "name": "stderr",
          "text": [
            "/usr/local/lib/python3.8/dist-packages/pandas/core/frame.py:4906: SettingWithCopyWarning: \n",
            "A value is trying to be set on a copy of a slice from a DataFrame\n",
            "\n",
            "See the caveats in the documentation: https://pandas.pydata.org/pandas-docs/stable/user_guide/indexing.html#returning-a-view-versus-a-copy\n",
            "  return super().drop(\n"
          ]
        },
        {
          "output_type": "display_data",
          "data": {
            "text/plain": [
              "<Figure size 432x288 with 1 Axes>"
            ],
            "image/png": "[encoded data removed]"
          },
          "metadata": {
            "needs_background": "light"
          }
        }
      ]
    },
    {
      "cell_type": "code",
      "source": [
        "from prophet import Prophet\n",
        "# 2019 ~ 2021년도 데이터 도출\n",
        "electric_vehicle_2019_2021_df = df[df['기준일'].between('2019-01-01', '2021-12-01')]\n",
        "\n",
        "# 데이터 정렬\n",
        "electric_vehicle_2019_2021_df.sort_values('기준일',inplace=True)\n",
        "\n",
        "# prophet을 사용하기 위해서는 컬럼을 변경 : 'ds', 'y'\n",
        "prophet_data = electric_vehicle_2019_2021_df[['기준일','합계']]\n",
        "prophet_data.columns = ['ds', 'y']\n",
        "\n",
        "prophet = Prophet()\n",
        "prophet.fit(prophet_data)\n",
        "# 2019 ~ 2021년 데이터를 기준으로 24개월 후 시장 예측\n",
        "future = prophet.make_future_dataframe(periods = 24, freq = 'MS')\n",
        "prophet.predict(future)\n",
        "\n",
        "pred = prophet.predict(future)\n",
        "# 예측된 데이터 중 ds, yhat, yhat_lower, yhat_upper 도출\n",
        "pred = pred[['ds', 'yhat', 'yhat_lower', 'yhat_upper']]\n",
        "prophet.plot(pred)\n",
        "\n",
        "plt.show()"
      ],
      "metadata": {
        "colab": {
          "base_uri": "https://localhost:8080/",
          "height": 755
        },
        "id": "ywX3kY-TPuAY",
        "outputId": "e6b3e01c-7fa3-46c2-ad6e-5d6e2ce59169"
      },
      "execution_count": 8,
      "outputs": [
        {
          "output_type": "stream",
          "name": "stderr",
          "text": [
            "/usr/local/lib/python3.8/dist-packages/pandas/util/_decorators.py:311: SettingWithCopyWarning: \n",
            "A value is trying to be set on a copy of a slice from a DataFrame\n",
            "\n",
            "See the caveats in the documentation: https://pandas.pydata.org/pandas-docs/stable/user_guide/indexing.html#returning-a-view-versus-a-copy\n",
            "  return func(*args, **kwargs)\n",
            "INFO:prophet:Disabling weekly seasonality. Run prophet with weekly_seasonality=True to override this.\n",
            "INFO:prophet:Disabling daily seasonality. Run prophet with daily_seasonality=True to override this.\n",
            "DEBUG:cmdstanpy:input tempfile: /tmp/tmpr70ndyzl/mbpi7ddx.json\n",
            "DEBUG:cmdstanpy:input tempfile: /tmp/tmpr70ndyzl/ql2fpo0h.json\n",
            "DEBUG:cmdstanpy:idx 0\n",
            "DEBUG:cmdstanpy:running CmdStan, num_threads: None\n",
            "DEBUG:cmdstanpy:CmdStan args: ['/usr/local/lib/python3.8/dist-packages/prophet/stan_model/prophet_model.bin', 'random', 'seed=66759', 'data', 'file=/tmp/tmpr70ndyzl/mbpi7ddx.json', 'init=/tmp/tmpr70ndyzl/ql2fpo0h.json', 'output', 'file=/tmp/tmpr70ndyzl/prophet_modeltd133h41/prophet_model-20221211052356.csv', 'method=optimize', 'algorithm=newton', 'iter=10000']\n",
            "05:23:56 - cmdstanpy - INFO - Chain [1] start processing\n",
            "INFO:cmdstanpy:Chain [1] start processing\n",
            "05:23:56 - cmdstanpy - INFO - Chain [1] done processing\n",
            "INFO:cmdstanpy:Chain [1] done processing\n"
          ]
        },
        {
          "output_type": "display_data",
          "data": {
            "text/plain": [
              "<Figure size 720x432 with 1 Axes>"
            ],
            "image/png": "[encoded data removed]"
          },
          "metadata": {}
        }
      ]
    },
    {
      "cell_type": "markdown",
      "source": [
        "### 위경도를 이용한 전기차 충전소 지도 시각화\n",
        "\n",
        "> background = GoogleMap"
      ],
      "metadata": {
        "id": "M8b86szuO0xk"
      }
    },
    {
      "cell_type": "code",
      "source": [
        "from folium.plugins import MarkerCluster\n",
        "\n",
        "# 전기차 충전소 위경도 데이터 불러오기기\n",
        "df1 = pd.read_csv('/content/한국전력공사_전기차충전소위경도_20220718.csv', encoding='cp949')\n",
        "\n",
        "# 구글맵을 background로 사용\n",
        "tiles = \"http://mt0.google.com/vt/lyrs=m&hl=ko&x={x}&y={y}&z={z}\"\n",
        "# 지도 위경도 설정, 카메라 설정, tiles는 구글맵\n",
        "charging_station_map=folium.Map(location = [35.907757, 127.766922], zoom_start = 7, tiles = tiles, attr = 'Google')"
      ],
      "metadata": {
        "id": "rI-erQ8zaMN4"
      },
      "execution_count": 9,
      "outputs": []
    },
    {
      "cell_type": "code",
      "source": [
        "#MarkerCluster 를 이용하면 가까운 거리의 Marker들을 군집시켜서 해당 건수를 표현해준다\n",
        "marker_cluster = MarkerCluster().add_to(charging_station_map)\n",
        "\n",
        "for name, lat, lng in zip(df1['충전소명'], df1['경도'], df1['위도']):\n",
        "  folium.Marker([lat, lng], popup='<b>'+name+'</b>').add_to(marker_cluster)\n",
        "\n",
        "charging_station_map.save('./charging_station_map.html')\n",
        "# https://chanwon-seo.github.io/Electric_vehicle_and_charging_station_analysis/electric_vehicle_status_map.html\n",
        "charging_station_map"
      ],
      "metadata": {
        "id": "CbMkcFvZ2eZX"
      },
      "execution_count": null,
      "outputs": []
    },
    {
      "cell_type": "code",
      "source": [
        "# matplotlib 한글 지원 문제로 인한 시도별 영문\n",
        "df_columns = ['Gangwon-do', 'Gyeongsangnam-do', 'Gyeonggi-do', 'Incheon', 'Gyeongsangbuk-do', 'Jeollanam-do', \n",
        "              'Gwangju', 'Seoul', 'Daegu', 'Chungcheongnam-do', 'Daejeon', 'Sejong', 'Busan', 'Ulsan', 'Jeollabuk-do',\n",
        "              'Jeju','Chungcheongbuk-do']\n",
        "df1_list = df1['시도'].value_counts(sort = False)\n",
        "\n",
        "y = np.arange(len(df1_list))\n",
        "\n",
        "plt.title(\"Ratio of electric vehicle charging stations by province\") \n",
        "\n",
        "plt.barh(y, df1_list, color='#17bedf')\n",
        "plt.yticks(y, df_columns)\n",
        "\n",
        "for idx, value in enumerate(df1_list): \n",
        "  plt.text(value + 0.5, idx, str(value))\n",
        "plt.show()"
      ],
      "metadata": {
        "colab": {
          "base_uri": "https://localhost:8080/",
          "height": 281
        },
        "id": "Z3BoRcwJOEtE",
        "outputId": "f7107e9c-a8dd-4a89-92ef-230ade54c04d"
      },
      "execution_count": 23,
      "outputs": [
        {
          "output_type": "display_data",
          "data": {
            "text/plain": [
              "<Figure size 432x288 with 1 Axes>"
            ],
            "image/png": "[encoded data removed]"
          },
          "metadata": {
            "needs_background": "light"
          }
        }
      ]
    },
    {
      "cell_type": "code",
      "source": [
        "!pip install pyecharts==0.5.11\n",
        "!pip install pyecharts-snapshot"
      ],
      "metadata": {
        "id": "j843m6TxOVXq"
      },
      "execution_count": null,
      "outputs": []
    },
    {
      "cell_type": "code",
      "source": [
        "# 전기차 충전소 시간별 충전부하 데이터\n",
        "hours_df = pd.read_csv('/content/한국전력공사_EV시간대별 충전부하_20220601.csv')\n",
        "# 2021년도 데이터 추출\n",
        "hours_df = hours_df[hours_df['년월']<='2021-12-01']"
      ],
      "metadata": {
        "id": "sOu1qRnMQqkz",
        "colab": {
          "base_uri": "https://localhost:8080/"
        },
        "outputId": "6dde88d8-0315-466a-bca1-679ad7beb974"
      },
      "execution_count": 17,
      "outputs": [
        {
          "output_type": "stream",
          "name": "stdout",
          "text": [
            "        년월 급속/완속     0시     1시     2시     3시     4시     5시     6시      7시  \\\n",
            "0  2021-01    급속  59160  44600  27600  21240  41280  46320  82280  141680   \n",
            "1  2021-01    완속  15148  13748   9219   4123   2128   2240   3962    6986   \n",
            "2  2021-02    급속  58440  43360  26960  19120  30760  41880  77960  136080   \n",
            "3  2021-02    완속  14350  13804   8365   4270   2240   2100   3913    8372   \n",
            "4  2021-03    급속  63600  46000  30080  22040  39000  51640  97960  159080   \n",
            "\n",
            "   ...     14시     15시     16시     17시     18시     19시     20시     21시  \\\n",
            "0  ...  407280  423320  425600  389640  349600  288560  242000  199160   \n",
            "1  ...   32501   39732   47502   60319   75103   69832   59801   52297   \n",
            "2  ...  357720  365560  364440  333800  316720  264880  215040  178320   \n",
            "3  ...   29071   36743   43708   52766   65170   63903   57659   52136   \n",
            "4  ...  358160  380680  378080  367560  351960  301080  241920  187640   \n",
            "\n",
            "      22시     23시  \n",
            "0  155600  114480  \n",
            "1   47670   44723  \n",
            "2  143000  106680  \n",
            "3   45864   45416  \n",
            "4  148920  111880  \n",
            "\n",
            "[5 rows x 26 columns]\n"
          ]
        }
      ]
    },
    {
      "cell_type": "code",
      "source": [
        "from pyecharts import Bar, Pie, Timeline, Style, Grid\n",
        "\n",
        "# 월별 급속 데이터\n",
        "rapid = hours_df[hours_df['급속/완속'] == '급속']\n",
        "rapid = rapid.reset_index(drop = True)\n",
        "\n",
        "# 월별 완속 데이터\n",
        "slow = hours_df[hours_df['급속/완속'] == '완속']\n",
        "slow = slow.reset_index(drop=True)\n",
        "\n",
        "time = hours_df.columns.to_list()\n",
        "\n",
        "del time[0:2]"
      ],
      "metadata": {
        "id": "FEtn_FDkEu_o"
      },
      "execution_count": 14,
      "outputs": []
    },
    {
      "cell_type": "code",
      "source": [
        "rapid_1 = rapid.iloc[0,2:].to_list()\n",
        "rapid_2 = rapid.iloc[1,2:].to_list()\n",
        "rapid_3 = rapid.iloc[2,2:].to_list()\n",
        "rapid_4 = rapid.iloc[3,2:].to_list()\n",
        "rapid_5 = rapid.iloc[4,2:].to_list()\n",
        "rapid_6 = rapid.iloc[5,2:].to_list()\n",
        "rapid_7 = rapid.iloc[6,2:].to_list()\n",
        "rapid_8 = rapid.iloc[7,2:].to_list()\n",
        "rapid_9 = rapid.iloc[8,2:].to_list()\n",
        "rapid_10 = rapid.iloc[9,2:].to_list()\n",
        "rapid_11 = rapid.iloc[10,2:].to_list()\n",
        "rapid_12 = rapid.iloc[11,2:].to_list()\n",
        "print(\"급속 1월\")\n",
        "print(rapid_1)\n",
        "\n",
        "slow_1 = slow.iloc[0,2:].to_list()\n",
        "slow_2 = slow.iloc[1,2:].to_list()\n",
        "slow_3 = slow.iloc[2,2:].to_list()\n",
        "slow_4 = slow.iloc[3,2:].to_list()\n",
        "slow_5 = slow.iloc[4,2:].to_list()\n",
        "slow_6 = slow.iloc[5,2:].to_list()\n",
        "slow_7 = slow.iloc[6,2:].to_list()\n",
        "slow_8 = slow.iloc[7,2:].to_list()\n",
        "slow_9 = slow.iloc[8,2:].to_list()\n",
        "slow_10 = slow.iloc[9,2:].to_list()\n",
        "slow_11 = slow.iloc[10,2:].to_list()\n",
        "slow_12 = slow.iloc[11,2:].to_list()\n",
        "print(\"완속 1월\")\n",
        "print(slow_1)"
      ],
      "metadata": {
        "id": "WafdEn8QNrem",
        "colab": {
          "base_uri": "https://localhost:8080/"
        },
        "outputId": "b11c4a7e-c76b-4a6a-8eea-b7adf583d0de"
      },
      "execution_count": 21,
      "outputs": [
        {
          "output_type": "stream",
          "name": "stdout",
          "text": [
            "급속 1월\n",
            "[59160, 44600, 27600, 21240, 41280, 46320, 82280, 141680, 230600, 283360, 319200, 373480, 410840, 394240, 407280, 423320, 425600, 389640, 349600, 288560, 242000, 199160, 155600, 114480]\n",
            "완속 1월\n",
            "[15148, 13748, 9219, 4123, 2128, 2240, 3962, 6986, 13272, 17857, 22141, 26761, 28070, 28091, 32501, 39732, 47502, 60319, 75103, 69832, 59801, 52297, 47670, 44723]\n"
          ]
        }
      ]
    },
    {
      "cell_type": "code",
      "source": [
        "bar_1 = Bar(\"시간대별 충전 부하량\",'1월')\n",
        "bar_1.add('급속', time, rapid_1, is_stack = True)\n",
        "bar_1.add('완속', time, slow_1, is_stack = True)\n",
        "\n",
        "bar_2 = Bar(\"시간대별 충전 부하량\",'2월')\n",
        "bar_2.add('급속', time, rapid_2, is_stack = True)\n",
        "bar_2.add('완속', time, slow_2, is_stack = True)\n",
        "\n",
        "bar_3 = Bar(\"시간대별 충전 부하량\",'3월')\n",
        "bar_3.add('급속', time, rapid_3, is_stack = True)\n",
        "bar_3.add('완속', time, slow_3, is_stack = True)\n",
        "\n",
        "bar_4 = Bar(\"시간대별 충전 부하량\",'4월')\n",
        "bar_4.add('급속', time, rapid_4, is_stack = True)\n",
        "bar_4.add('완속', time, slow_4, is_stack = True)\n",
        "\n",
        "bar_5 = Bar(\"시간대별 충전 부하량\",'5월')\n",
        "bar_5.add('급속', time, rapid_5, is_stack = True)\n",
        "bar_5.add('완속', time, slow_5, is_stack = True)\n",
        "\n",
        "bar_6 = Bar(\"시간대별 충전 부하량\",'6월')\n",
        "bar_6.add('급속', time, rapid_6, is_stack = True)\n",
        "bar_6.add('완속', time, slow_6, is_stack = True)\n",
        "\n",
        "bar_7 = Bar(\"시간대별 충전 부하량\",'7월')\n",
        "bar_7.add('급속', time, rapid_7, is_stack = True)\n",
        "bar_7.add('완속', time, slow_7, is_stack = True)\n",
        "\n",
        "bar_8 = Bar(\"시간대별 충전 부하량\",'8월')\n",
        "bar_8.add('급속', time, rapid_8, is_stack = True)\n",
        "bar_8.add('완속', time, slow_8, is_stack = True)\n",
        "\n",
        "bar_9 = Bar(\"시간대별 충전 부하량\",'9월')\n",
        "bar_9.add('급속', time, rapid_9, is_stack = True)\n",
        "bar_9.add('완속', time, slow_9, is_stack = True)\n",
        "\n",
        "bar_10 = Bar(\"시간대별 충전 부하량\",'10월')\n",
        "bar_10.add('급속', time, rapid_10, is_stack = True)\n",
        "bar_10.add('완속', time, slow_10, is_stack = True)\n",
        "\n",
        "bar_11 = Bar(\"시간대별 충전 부하량\",'11월')\n",
        "bar_11.add('급속', time, rapid_11, is_stack = True)\n",
        "bar_11.add('완속', time, slow_11, is_stack = True)\n",
        "\n",
        "bar_12 = Bar(\"시간대별 충전 부하량\",'12월')\n",
        "bar_12.add('급속', time, rapid_12, is_stack = True)\n",
        "bar_12.add('완속', time, slow_12, is_stack = True)\n",
        "\n",
        "timeline = Timeline(is_auto_play=True, timeline_bottom = -5, width = 900)\n",
        "timeline.add(bar_1, '1월')\n",
        "timeline.add(bar_2, '2월')\n",
        "timeline.add(bar_3, '3월')\n",
        "timeline.add(bar_4, '4월')\n",
        "timeline.add(bar_5, '5월')\n",
        "timeline.add(bar_6, '6월')\n",
        "timeline.add(bar_7, '7월')\n",
        "timeline.add(bar_8, '8월')\n",
        "timeline.add(bar_9, '9월')\n",
        "timeline.add(bar_10, '10월')\n",
        "timeline.add(bar_11, '11월')\n",
        "timeline.add(bar_12, '12월')\n",
        "# https://chanwon-seo.github.io/Electric_vehicle_and_charging_station_analysis/charge_load_per_hour.html\n",
        "timeline.render('charge_load_per_hour.html')"
      ],
      "metadata": {
        "id": "IgaWbbXkGVmP"
      },
      "execution_count": 22,
      "outputs": []
    }
  ]
}