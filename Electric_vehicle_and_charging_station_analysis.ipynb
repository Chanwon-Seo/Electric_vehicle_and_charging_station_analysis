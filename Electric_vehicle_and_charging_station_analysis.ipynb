{
  "nbformat": 4,
  "nbformat_minor": 0,
  "metadata": {
    "colab": {
      "provenance": []
    },
    "kernelspec": {
      "name": "python3",
      "display_name": "Python 3"
    },
    "language_info": {
      "name": "python"
    }
  },
  "cells": [
    {
      "cell_type": "markdown",
      "source": [
        "# 친환경자동차 등록 대수 현황 및 친환경자동차 충전소 시각화"
      ],
      "metadata": {
        "id": "ckYwaa51S7pK"
      }
    },
    {
      "cell_type": "code",
      "execution_count": null,
      "metadata": {
        "id": "5PNsWDBxNXgs"
      },
      "outputs": [],
      "source": []
    }
  ]
}